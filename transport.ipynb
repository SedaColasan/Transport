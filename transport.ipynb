{
 "cells": [
  {
   "cell_type": "markdown",
   "metadata": {},
   "source": [
    "# Transport"
   ]
  },
  {
   "cell_type": "code",
   "execution_count": 2,
   "metadata": {},
   "outputs": [],
   "source": [
    "# BASE\n",
    "import joblib \n",
    "import numpy as np\n",
    "import pandas as pd  \n",
    "import seaborn as sns  \n",
    "import matplotlib.pyplot as plt"
   ]
  },
  {
   "cell_type": "markdown",
   "metadata": {},
   "source": [
    "https://data.gov.ie/dataset/tha25-passenger-journeys-by-public-transport"
   ]
  },
  {
   "cell_type": "code",
   "execution_count": 3,
   "metadata": {},
   "outputs": [],
   "source": [
    "ireland = pd.read_csv(\"THA25 - Passenger Journeys by Public Transport.csv\")"
   ]
  },
  {
   "cell_type": "code",
   "execution_count": 4,
   "metadata": {},
   "outputs": [
    {
     "data": {
      "text/html": [
       "<div>\n",
       "<style scoped>\n",
       "    .dataframe tbody tr th:only-of-type {\n",
       "        vertical-align: middle;\n",
       "    }\n",
       "\n",
       "    .dataframe tbody tr th {\n",
       "        vertical-align: top;\n",
       "    }\n",
       "\n",
       "    .dataframe thead th {\n",
       "        text-align: right;\n",
       "    }\n",
       "</style>\n",
       "<table border=\"1\" class=\"dataframe\">\n",
       "  <thead>\n",
       "    <tr style=\"text-align: right;\">\n",
       "      <th></th>\n",
       "      <th>STATISTIC</th>\n",
       "      <th>Statistic Label</th>\n",
       "      <th>TLIST(W1)</th>\n",
       "      <th>Week</th>\n",
       "      <th>C03935V04687</th>\n",
       "      <th>Mode of Transport</th>\n",
       "      <th>UNIT</th>\n",
       "      <th>VALUE</th>\n",
       "    </tr>\n",
       "  </thead>\n",
       "  <tbody>\n",
       "    <tr>\n",
       "      <th>0</th>\n",
       "      <td>THA25C01</td>\n",
       "      <td>Passenger Journeys</td>\n",
       "      <td>2019W01</td>\n",
       "      <td>2019 Week 01</td>\n",
       "      <td>10</td>\n",
       "      <td>Dublin Metro Bus</td>\n",
       "      <td>Number</td>\n",
       "      <td>1987891.0</td>\n",
       "    </tr>\n",
       "    <tr>\n",
       "      <th>1</th>\n",
       "      <td>THA25C01</td>\n",
       "      <td>Passenger Journeys</td>\n",
       "      <td>2019W01</td>\n",
       "      <td>2019 Week 01</td>\n",
       "      <td>20</td>\n",
       "      <td>Bus, excluding Dublin Metro</td>\n",
       "      <td>Number</td>\n",
       "      <td>497598.0</td>\n",
       "    </tr>\n",
       "    <tr>\n",
       "      <th>2</th>\n",
       "      <td>THA25C01</td>\n",
       "      <td>Passenger Journeys</td>\n",
       "      <td>2019W01</td>\n",
       "      <td>2019 Week 01</td>\n",
       "      <td>30</td>\n",
       "      <td>Rail</td>\n",
       "      <td>Number</td>\n",
       "      <td>NaN</td>\n",
       "    </tr>\n",
       "    <tr>\n",
       "      <th>3</th>\n",
       "      <td>THA25C01</td>\n",
       "      <td>Passenger Journeys</td>\n",
       "      <td>2019W01</td>\n",
       "      <td>2019 Week 01</td>\n",
       "      <td>40</td>\n",
       "      <td>All public transport, excluding LUAS</td>\n",
       "      <td>Number</td>\n",
       "      <td>2485489.0</td>\n",
       "    </tr>\n",
       "    <tr>\n",
       "      <th>4</th>\n",
       "      <td>THA25C01</td>\n",
       "      <td>Passenger Journeys</td>\n",
       "      <td>2019W02</td>\n",
       "      <td>2019 Week 02</td>\n",
       "      <td>10</td>\n",
       "      <td>Dublin Metro Bus</td>\n",
       "      <td>Number</td>\n",
       "      <td>2709579.0</td>\n",
       "    </tr>\n",
       "  </tbody>\n",
       "</table>\n",
       "</div>"
      ],
      "text/plain": [
       "  STATISTIC     Statistic Label TLIST(W1)          Week  C03935V04687  \\\n",
       "0  THA25C01  Passenger Journeys   2019W01  2019 Week 01            10   \n",
       "1  THA25C01  Passenger Journeys   2019W01  2019 Week 01            20   \n",
       "2  THA25C01  Passenger Journeys   2019W01  2019 Week 01            30   \n",
       "3  THA25C01  Passenger Journeys   2019W01  2019 Week 01            40   \n",
       "4  THA25C01  Passenger Journeys   2019W02  2019 Week 02            10   \n",
       "\n",
       "                      Mode of Transport    UNIT      VALUE  \n",
       "0                      Dublin Metro Bus  Number  1987891.0  \n",
       "1           Bus, excluding Dublin Metro  Number   497598.0  \n",
       "2                                  Rail  Number        NaN  \n",
       "3  All public transport, excluding LUAS  Number  2485489.0  \n",
       "4                      Dublin Metro Bus  Number  2709579.0  "
      ]
     },
     "execution_count": 4,
     "metadata": {},
     "output_type": "execute_result"
    }
   ],
   "source": [
    "ireland.head()"
   ]
  },
  {
   "cell_type": "markdown",
   "metadata": {},
   "source": [
    "https://assets.publishing.service.gov.uk/media/65788df3254aaa000d050b7e/full_data_clean.csv/preview"
   ]
  },
  {
   "cell_type": "code",
   "execution_count": 14,
   "metadata": {},
   "outputs": [],
   "source": [
    "en = pd.read_csv(\"full_data_clean.csv\")"
   ]
  },
  {
   "cell_type": "code",
   "execution_count": 15,
   "metadata": {},
   "outputs": [
    {
     "data": {
      "text/html": [
       "<div>\n",
       "<style scoped>\n",
       "    .dataframe tbody tr th:only-of-type {\n",
       "        vertical-align: middle;\n",
       "    }\n",
       "\n",
       "    .dataframe tbody tr th {\n",
       "        vertical-align: top;\n",
       "    }\n",
       "\n",
       "    .dataframe thead th {\n",
       "        text-align: right;\n",
       "    }\n",
       "</style>\n",
       "<table border=\"1\" class=\"dataframe\">\n",
       "  <thead>\n",
       "    <tr style=\"text-align: right;\">\n",
       "      <th></th>\n",
       "      <th>date</th>\n",
       "      <th>transport_type</th>\n",
       "      <th>value</th>\n",
       "    </tr>\n",
       "  </thead>\n",
       "  <tbody>\n",
       "    <tr>\n",
       "      <th>0</th>\n",
       "      <td>2020-03-01</td>\n",
       "      <td>cars</td>\n",
       "      <td>1.03</td>\n",
       "    </tr>\n",
       "    <tr>\n",
       "      <th>1</th>\n",
       "      <td>2020-03-01</td>\n",
       "      <td>light_commercial_vehicles</td>\n",
       "      <td>1.11</td>\n",
       "    </tr>\n",
       "    <tr>\n",
       "      <th>2</th>\n",
       "      <td>2020-03-01</td>\n",
       "      <td>heavy_goods_vehicles</td>\n",
       "      <td>1.08</td>\n",
       "    </tr>\n",
       "    <tr>\n",
       "      <th>3</th>\n",
       "      <td>2020-03-01</td>\n",
       "      <td>all_motor_vehicles</td>\n",
       "      <td>1.04</td>\n",
       "    </tr>\n",
       "    <tr>\n",
       "      <th>4</th>\n",
       "      <td>2020-03-01</td>\n",
       "      <td>tfl_tube</td>\n",
       "      <td>1.03</td>\n",
       "    </tr>\n",
       "  </tbody>\n",
       "</table>\n",
       "</div>"
      ],
      "text/plain": [
       "         date             transport_type  value\n",
       "0  2020-03-01                       cars   1.03\n",
       "1  2020-03-01  light_commercial_vehicles   1.11\n",
       "2  2020-03-01       heavy_goods_vehicles   1.08\n",
       "3  2020-03-01         all_motor_vehicles   1.04\n",
       "4  2020-03-01                   tfl_tube   1.03"
      ]
     },
     "execution_count": 15,
     "metadata": {},
     "output_type": "execute_result"
    }
   ],
   "source": [
    "en.head()"
   ]
  },
  {
   "cell_type": "code",
   "execution_count": null,
   "metadata": {},
   "outputs": [],
   "source": []
  }
 ],
 "metadata": {
  "kernelspec": {
   "display_name": "myenv",
   "language": "python",
   "name": "python3"
  },
  "language_info": {
   "codemirror_mode": {
    "name": "ipython",
    "version": 3
   },
   "file_extension": ".py",
   "mimetype": "text/x-python",
   "name": "python",
   "nbconvert_exporter": "python",
   "pygments_lexer": "ipython3",
   "version": "3.11.3"
  }
 },
 "nbformat": 4,
 "nbformat_minor": 2
}
